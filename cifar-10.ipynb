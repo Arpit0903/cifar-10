{
  "nbformat": 4,
  "nbformat_minor": 0,
  "metadata": {
    "colab": {
      "name": "Untitled1.ipynb",
      "provenance": [],
      "collapsed_sections": []
    },
    "kernelspec": {
      "name": "python3",
      "display_name": "Python 3"
    },
    "accelerator": "GPU"
  },
  "cells": [
    {
      "cell_type": "code",
      "metadata": {
        "id": "KTnc20uPWxHQ",
        "colab_type": "code",
        "colab": {}
      },
      "source": [
        "from keras.models import Sequential\n",
        "from keras.layers import Conv2D, Dense, MaxPool2D, BatchNormalization, Flatten, Dropout, Activation, MaxPooling2D\n",
        "from keras.utils import to_categorical\n",
        "from keras.optimizers import adam, RMSprop\n",
        "from keras import regularizers, optimizers\n",
        "from keras.callbacks import ReduceLROnPlateau\n",
        "from keras.datasets import cifar10"
      ],
      "execution_count": 0,
      "outputs": []
    },
    {
      "cell_type": "code",
      "metadata": {
        "id": "_QdVniWZ5yhj",
        "colab_type": "code",
        "outputId": "0a295a93-55be-4fde-f53b-591484468b1d",
        "colab": {
          "base_uri": "https://localhost:8080/",
          "height": 54
        }
      },
      "source": [
        "(X_train, y_train), (X_test, y_test) = cifar10.load_data()"
      ],
      "execution_count": 3,
      "outputs": [
        {
          "output_type": "stream",
          "text": [
            "Downloading data from https://www.cs.toronto.edu/~kriz/cifar-10-python.tar.gz\n",
            "170500096/170498071 [==============================] - 13s 0us/step\n"
          ],
          "name": "stdout"
        }
      ]
    },
    {
      "cell_type": "code",
      "metadata": {
        "id": "DnzXNxJ28Mp0",
        "colab_type": "code",
        "colab": {}
      },
      "source": [
        "X_train = X_train.astype('float32')\n",
        "X_train /= 255\n",
        "X_test = X_test.astype('float32')\n",
        "X_test /= 255"
      ],
      "execution_count": 0,
      "outputs": []
    },
    {
      "cell_type": "code",
      "metadata": {
        "id": "a68ZMNJG5614",
        "colab_type": "code",
        "colab": {}
      },
      "source": [
        "num_classes = 10\n",
        "y_train = to_categorical(y_train, num_classes)\n",
        "y_test = to_categorical(y_test, num_classes) "
      ],
      "execution_count": 0,
      "outputs": []
    },
    {
      "cell_type": "code",
      "metadata": {
        "id": "dtxc3I6N8DwJ",
        "colab_type": "code",
        "outputId": "c90cfe9f-a637-4672-f1fb-e0846acfdbce",
        "colab": {
          "base_uri": "https://localhost:8080/",
          "height": 35
        }
      },
      "source": [
        "X_val = X_train[:10000]\n",
        "y_val = y_train[:10000]\n",
        "X_train = X_train[10000:]\n",
        "y_train = y_train[10000:]\n",
        "X_train.shape, y_train.shape, X_val.shape, y_val.shape"
      ],
      "execution_count": 6,
      "outputs": [
        {
          "output_type": "execute_result",
          "data": {
            "text/plain": [
              "((40000, 32, 32, 3), (40000, 10), (10000, 32, 32, 3), (10000, 10))"
            ]
          },
          "metadata": {
            "tags": []
          },
          "execution_count": 6
        }
      ]
    },
    {
      "cell_type": "code",
      "metadata": {
        "id": "GHp2C1UzqbGR",
        "colab_type": "code",
        "colab": {}
      },
      "source": [
        "batch_size = 32\n",
        "weight_decay = 1e-6"
      ],
      "execution_count": 0,
      "outputs": []
    },
    {
      "cell_type": "code",
      "metadata": {
        "id": "vCqNBxfp7ynU",
        "colab_type": "code",
        "outputId": "8f3f7413-ca3f-401c-ba16-354fcb160008",
        "colab": {
          "base_uri": "https://localhost:8080/",
          "height": 35
        }
      },
      "source": [
        "y_train.shape"
      ],
      "execution_count": 8,
      "outputs": [
        {
          "output_type": "execute_result",
          "data": {
            "text/plain": [
              "(40000, 10)"
            ]
          },
          "metadata": {
            "tags": []
          },
          "execution_count": 8
        }
      ]
    },
    {
      "cell_type": "code",
      "metadata": {
        "id": "7X_l9BSSVVzH",
        "colab_type": "code",
        "colab": {}
      },
      "source": [
        "def cifar():\n",
        "  model = Sequential()\n",
        "\n",
        "  model.add(Conv2D(32, (3, 3), activation = 'relu', padding = 'same', input_shape = (32, 32, 3)))\n",
        "  model.add(BatchNormalization())\n",
        "  model.add(Dropout(0.25))\n",
        "  model.add(Conv2D(32, (3, 3), activation = 'relu', padding = 'same'))\n",
        "  model.add(BatchNormalization())\n",
        "  model.add(MaxPooling2D(2, 2))\n",
        "\n",
        "  model.add(Conv2D(64, (3, 3), activation = 'relu', padding = 'same'))\n",
        "  model.add(BatchNormalization())\n",
        "  model.add(Dropout(0.25))\n",
        "  model.add(Conv2D(64, (3, 3), activation = 'relu', padding = 'same'))\n",
        "  model.add(BatchNormalization())\n",
        "  model.add(MaxPooling2D(2, 2))\n",
        "\n",
        "  model.add(Conv2D(128, (3, 3), activation = 'relu', padding = 'same'))\n",
        "  model.add(BatchNormalization())\n",
        "  model.add(Dropout(0.25))\n",
        "  model.add(Conv2D(128, (3, 3), activation = 'relu', padding = 'same'))\n",
        "  model.add(BatchNormalization())\n",
        "  model.add(MaxPooling2D(2, 2))\n",
        "\n",
        "  model.add(Flatten())\n",
        "  model.add(Dense(256, activation = 'relu'))\n",
        "  model.add(BatchNormalization())\n",
        "  model.add(Dropout(0.5))\n",
        "  model.add(Dense(num_classes, activation = 'softmax'))\n",
        "  return model"
      ],
      "execution_count": 0,
      "outputs": []
    },
    {
      "cell_type": "code",
      "metadata": {
        "id": "ILRr_96xIalp",
        "colab_type": "code",
        "colab": {}
      },
      "source": [
        "callback = [ReduceLROnPlateau(monitor = 'val_loss', patience = 2, factor = 0.1, min_lr = 0.001)]"
      ],
      "execution_count": 0,
      "outputs": []
    },
    {
      "cell_type": "code",
      "metadata": {
        "id": "dfUMJzViecDg",
        "colab_type": "code",
        "colab": {}
      },
      "source": [
        "cifar_model = cifar()\n",
        "optimizer = adam(learning_rate = 0.001)\n",
        "cifar_model.compile(loss='categorical_crossentropy', optimizer='rmsprop', metrics=['accuracy'])"
      ],
      "execution_count": 0,
      "outputs": []
    },
    {
      "cell_type": "code",
      "metadata": {
        "id": "768pKc6LgFK_",
        "colab_type": "code",
        "outputId": "c4afdd37-fd4b-4fd5-aa08-cab4fd2e1f5a",
        "colab": {
          "base_uri": "https://localhost:8080/",
          "height": 774
        }
      },
      "source": [
        "history = cifar_model.fit(X_train, y_train, epochs=20, batch_size=batch_size, validation_data=(X_val,y_val), callbacks=callback)"
      ],
      "execution_count": 12,
      "outputs": [
        {
          "output_type": "stream",
          "text": [
            "Train on 40000 samples, validate on 10000 samples\n",
            "Epoch 1/20\n",
            "40000/40000 [==============================] - 32s 797us/step - loss: 1.5915 - accuracy: 0.4579 - val_loss: 1.3726 - val_accuracy: 0.5845\n",
            "Epoch 2/20\n",
            "40000/40000 [==============================] - 24s 605us/step - loss: 0.9928 - accuracy: 0.6511 - val_loss: 0.9714 - val_accuracy: 0.6630\n",
            "Epoch 3/20\n",
            "40000/40000 [==============================] - 25s 615us/step - loss: 0.8209 - accuracy: 0.7132 - val_loss: 1.2432 - val_accuracy: 0.6531\n",
            "Epoch 4/20\n",
            "40000/40000 [==============================] - 24s 608us/step - loss: 0.7153 - accuracy: 0.7546 - val_loss: 0.7604 - val_accuracy: 0.7428\n",
            "Epoch 5/20\n",
            "40000/40000 [==============================] - 24s 609us/step - loss: 0.6392 - accuracy: 0.7805 - val_loss: 0.7211 - val_accuracy: 0.7666\n",
            "Epoch 6/20\n",
            "40000/40000 [==============================] - 24s 609us/step - loss: 0.5764 - accuracy: 0.8026 - val_loss: 0.6170 - val_accuracy: 0.7895\n",
            "Epoch 7/20\n",
            "40000/40000 [==============================] - 24s 610us/step - loss: 0.5295 - accuracy: 0.8180 - val_loss: 0.6189 - val_accuracy: 0.7921\n",
            "Epoch 8/20\n",
            "40000/40000 [==============================] - 24s 606us/step - loss: 0.4869 - accuracy: 0.8324 - val_loss: 0.6417 - val_accuracy: 0.7837\n",
            "Epoch 9/20\n",
            "40000/40000 [==============================] - 24s 609us/step - loss: 0.4565 - accuracy: 0.8421 - val_loss: 0.5446 - val_accuracy: 0.8164\n",
            "Epoch 10/20\n",
            "40000/40000 [==============================] - 24s 609us/step - loss: 0.4238 - accuracy: 0.8541 - val_loss: 0.6107 - val_accuracy: 0.8005\n",
            "Epoch 11/20\n",
            "40000/40000 [==============================] - 24s 605us/step - loss: 0.3981 - accuracy: 0.8630 - val_loss: 0.5567 - val_accuracy: 0.8120\n",
            "Epoch 12/20\n",
            "40000/40000 [==============================] - 24s 605us/step - loss: 0.3770 - accuracy: 0.8713 - val_loss: 0.5642 - val_accuracy: 0.8152\n",
            "Epoch 13/20\n",
            "40000/40000 [==============================] - 24s 606us/step - loss: 0.3538 - accuracy: 0.8777 - val_loss: 0.5733 - val_accuracy: 0.8076\n",
            "Epoch 14/20\n",
            "40000/40000 [==============================] - 24s 610us/step - loss: 0.3279 - accuracy: 0.8851 - val_loss: 0.5390 - val_accuracy: 0.8223\n",
            "Epoch 15/20\n",
            "40000/40000 [==============================] - 24s 605us/step - loss: 0.3171 - accuracy: 0.8912 - val_loss: 0.5613 - val_accuracy: 0.8164\n",
            "Epoch 16/20\n",
            "40000/40000 [==============================] - 24s 608us/step - loss: 0.3054 - accuracy: 0.8953 - val_loss: 0.6261 - val_accuracy: 0.7951\n",
            "Epoch 17/20\n",
            "40000/40000 [==============================] - 24s 609us/step - loss: 0.2981 - accuracy: 0.8981 - val_loss: 0.5636 - val_accuracy: 0.8155\n",
            "Epoch 18/20\n",
            "40000/40000 [==============================] - 24s 606us/step - loss: 0.2876 - accuracy: 0.9002 - val_loss: 0.5715 - val_accuracy: 0.8106\n",
            "Epoch 19/20\n",
            "40000/40000 [==============================] - 24s 606us/step - loss: 0.2716 - accuracy: 0.9055 - val_loss: 0.5258 - val_accuracy: 0.8278\n",
            "Epoch 20/20\n",
            "40000/40000 [==============================] - 24s 607us/step - loss: 0.2589 - accuracy: 0.9104 - val_loss: 0.5451 - val_accuracy: 0.8226\n"
          ],
          "name": "stdout"
        }
      ]
    },
    {
      "cell_type": "code",
      "metadata": {
        "id": "SAY0eisWOLWx",
        "colab_type": "code",
        "colab": {}
      },
      "source": [
        "cifar_model.save_weights('cifar_model_best.h5')"
      ],
      "execution_count": 0,
      "outputs": []
    },
    {
      "cell_type": "code",
      "metadata": {
        "id": "9aidRsyAF6wo",
        "colab_type": "code",
        "colab": {}
      },
      "source": [
        "from sklearn.model_selection import GridSearchCV\n",
        "from keras.wrappers.scikit_learn import KerasClassifier"
      ],
      "execution_count": 0,
      "outputs": []
    },
    {
      "cell_type": "code",
      "metadata": {
        "id": "Oz-7qe4yirV6",
        "colab_type": "code",
        "outputId": "e762662f-e621-4ce9-af46-6367ff1eb246",
        "colab": {
          "base_uri": "https://localhost:8080/",
          "height": 295
        }
      },
      "source": [
        "import matplotlib.pyplot as plt\n",
        "plt.plot(history.history['accuracy'])\n",
        "plt.plot(history.history['val_accuracy'])\n",
        "plt.title('Model Accuracy')\n",
        "plt.xlabel('epochs')\n",
        "plt.ylabel('accuracy')\n",
        "plt.legend(['Train', 'Test'], loc = 'upper right')\n",
        "plt.show()"
      ],
      "execution_count": 16,
      "outputs": [
        {
          "output_type": "display_data",
          "data": {
            "image/png": "[encoded data removed]",
            "text/plain": [
              "<Figure size 432x288 with 1 Axes>"
            ]
          },
          "metadata": {
            "tags": [],
            "needs_background": "light"
          }
        }
      ]
    },
    {
      "cell_type": "code",
      "metadata": {
        "id": "2AySwOvitYrm",
        "colab_type": "code",
        "outputId": "7cc7fa79-e339-4015-f1a2-61f6b338a57a",
        "colab": {
          "base_uri": "https://localhost:8080/",
          "height": 295
        }
      },
      "source": [
        "plt.plot(history.history['loss'])\n",
        "plt.plot(history.history['val_loss'])\n",
        "plt.title('Model Loss')\n",
        "plt.xlabel('epochs')\n",
        "plt.ylabel('loss')\n",
        "plt.legend(['Train', 'Test'], loc = 'upper right')\n",
        "plt.show()"
      ],
      "execution_count": 17,
      "outputs": [
        {
          "output_type": "display_data",
          "data": {
            "image/png": "[encoded data removed]",
            "text/plain": [
              "<Figure size 432x288 with 1 Axes>"
            ]
          },
          "metadata": {
            "tags": [],
            "needs_background": "light"
          }
        }
      ]
    },
    {
      "cell_type": "code",
      "metadata": {
        "id": "paxdYZ3lj-ws",
        "colab_type": "code",
        "colab": {}
      },
      "source": [
        ""
      ],
      "execution_count": 0,
      "outputs": []
    }
  ]
}