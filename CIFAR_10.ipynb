{
  "nbformat": 4,
  "nbformat_minor": 0,
  "metadata": {
    "colab": {
      "name": "CIFAR-10",
      "provenance": [],
      "collapsed_sections": []
    },
    "kernelspec": {
      "name": "python3",
      "display_name": "Python 3"
    },
    "accelerator": "GPU"
  },
  "cells": [
    {
      "cell_type": "code",
      "metadata": {
        "id": "JpX_URptVFgF",
        "colab_type": "code",
        "outputId": "eabc8148-385c-49ec-a11a-f9abb90bd322",
        "colab": {
          "base_uri": "https://localhost:8080/",
          "height": 35
        }
      },
      "source": [
        "import tensorflow as tf\n",
        "tf.test.gpu_device_name()"
      ],
      "execution_count": 0,
      "outputs": [
        {
          "output_type": "execute_result",
          "data": {
            "text/plain": [
              "'/device:GPU:0'"
            ]
          },
          "metadata": {
            "tags": []
          },
          "execution_count": 1
        }
      ]
    },
    {
      "cell_type": "code",
      "metadata": {
        "id": "6wzxTFsVV-Rx",
        "colab_type": "code",
        "colab": {}
      },
      "source": [
        "gpu_options = tf.compat.v1.GPUOptions(allow_growth=True)\n",
        "session = tf.compat.v1.InteractiveSession(config=tf.compat.v1.ConfigProto(gpu_options=gpu_options))"
      ],
      "execution_count": 0,
      "outputs": []
    },
    {
      "cell_type": "code",
      "metadata": {
        "id": "p2a4asXVV-5Z",
        "colab_type": "code",
        "outputId": "daf37441-82f1-4766-a40b-14680366b3ea",
        "colab": {
          "base_uri": "https://localhost:8080/",
          "height": 141
        }
      },
      "source": [
        "!apt-get update -qq 2>&1 > /dev/null\n",
        "!apt-get install -y -qq software-properties-common python-software-properties module-init-tools\n",
        "!add-apt-repository -y ppa:alessandro-strada/ppa 2>&1 > /dev/null\n",
        "!apt-get update -qq 2>&1 > /dev/null\n",
        "!apt-get -y install -qq google-drive-ocamlfuse fuse"
      ],
      "execution_count": 0,
      "outputs": [
        {
          "output_type": "stream",
          "text": [
            "E: Package 'python-software-properties' has no installation candidate\n",
            "Selecting previously unselected package google-drive-ocamlfuse.\n",
            "(Reading database ... 144568 files and directories currently installed.)\n",
            "Preparing to unpack .../google-drive-ocamlfuse_0.7.21-0ubuntu1~ubuntu18.04.1_amd64.deb ...\n",
            "Unpacking google-drive-ocamlfuse (0.7.21-0ubuntu1~ubuntu18.04.1) ...\n",
            "Setting up google-drive-ocamlfuse (0.7.21-0ubuntu1~ubuntu18.04.1) ...\n",
            "Processing triggers for man-db (2.8.3-2ubuntu0.1) ...\n"
          ],
          "name": "stdout"
        }
      ]
    },
    {
      "cell_type": "code",
      "metadata": {
        "id": "3iFtsAqoWAsv",
        "colab_type": "code",
        "colab": {}
      },
      "source": [
        "from google.colab import auth\n",
        "auth.authenticate_user()"
      ],
      "execution_count": 0,
      "outputs": []
    },
    {
      "cell_type": "code",
      "metadata": {
        "id": "lrnHK7_sWCh7",
        "colab_type": "code",
        "outputId": "8723f802-253f-4711-9e9c-91442dd7096b",
        "colab": {
          "base_uri": "https://localhost:8080/",
          "height": 108
        }
      },
      "source": [
        "from oauth2client.client import GoogleCredentials\n",
        "creds = GoogleCredentials.get_application_default()\n",
        "import getpass\n",
        "!google-drive-ocamlfuse -headless -id={creds.client_id} -secret={creds.client_secret} < /dev/null 2>&1 | grep URL\n",
        "vcode = getpass.getpass()\n",
        "!echo {vcode} | google-drive-ocamlfuse -headless -id={creds.client_id} -secret={creds.client_secret}"
      ],
      "execution_count": 0,
      "outputs": [
        {
          "output_type": "stream",
          "text": [
            "Please, open the following URL in a web browser: https://accounts.google.com/o/oauth2/auth?client_id=32555940559.apps.googleusercontent.com&redirect_uri=urn%3Aietf%3Awg%3Aoauth%3A2.0%3Aoob&scope=https%3A%2F%2Fwww.googleapis.com%2Fauth%2Fdrive&response_type=code&access_type=offline&approval_prompt=force\n",
            "··········\n",
            "Please, open the following URL in a web browser: https://accounts.google.com/o/oauth2/auth?client_id=32555940559.apps.googleusercontent.com&redirect_uri=urn%3Aietf%3Awg%3Aoauth%3A2.0%3Aoob&scope=https%3A%2F%2Fwww.googleapis.com%2Fauth%2Fdrive&response_type=code&access_type=offline&approval_prompt=force\n",
            "Please enter the verification code: Access token retrieved correctly.\n"
          ],
          "name": "stdout"
        }
      ]
    },
    {
      "cell_type": "code",
      "metadata": {
        "id": "BujjSyUYWEbT",
        "colab_type": "code",
        "outputId": "286ea399-2308-48f3-93ab-4640a425d8c8",
        "colab": {
          "base_uri": "https://localhost:8080/",
          "height": 239
        }
      },
      "source": [
        "import os\n",
        "os.chdir('drive/My Drive/CIFAR-10')\n",
        "os.listdir()"
      ],
      "execution_count": 1,
      "outputs": [
        {
          "output_type": "execute_result",
          "data": {
            "text/plain": [
              "['data_batch_1',\n",
              " 'batches.meta',\n",
              " 'data_batch_2',\n",
              " 'data_batch_3',\n",
              " 'data_batch_4',\n",
              " 'data_batch_5',\n",
              " 'test_batch',\n",
              " 'readme.html',\n",
              " 'test_images',\n",
              " 'cifar_model(acc:91 val_acc:72).h5',\n",
              " 'cifar_model(acc:86 val_acc:72).h5',\n",
              " 'cifar_model(acc:86 val_acc:73).h5']"
            ]
          },
          "metadata": {
            "tags": []
          },
          "execution_count": 1
        }
      ]
    },
    {
      "cell_type": "code",
      "metadata": {
        "id": "rICrsV9FXfdT",
        "colab_type": "code",
        "colab": {}
      },
      "source": [
        "import pandas as pd\n",
        "import numpy as np\n",
        "import matplotlib.pyplot as plt\n",
        "import pickle"
      ],
      "execution_count": 0,
      "outputs": []
    },
    {
      "cell_type": "code",
      "metadata": {
        "id": "n0RIAxB4XjIl",
        "colab_type": "code",
        "colab": {}
      },
      "source": [
        "def unpickle(file):\n",
        "  with open(file, 'rb') as f:\n",
        "    dict = pickle.load(f, encoding = 'bytes')\n",
        "  return dict"
      ],
      "execution_count": 0,
      "outputs": []
    },
    {
      "cell_type": "code",
      "metadata": {
        "id": "3DWqM1yKSD8r",
        "colab_type": "code",
        "colab": {}
      },
      "source": [
        "data_1 = unpickle('data_batch_1')\n",
        "data_2 = unpickle('data_batch_2')\n",
        "data_3 = unpickle('data_batch_3')\n",
        "data_4 = unpickle('data_batch_4')\n",
        "data_5 = unpickle('data_batch_5')"
      ],
      "execution_count": 0,
      "outputs": []
    },
    {
      "cell_type": "code",
      "metadata": {
        "id": "DXr3OkzhMXBN",
        "colab_type": "code",
        "outputId": "edd32252-0d5e-4dba-fafb-245b4e78ab54",
        "colab": {
          "base_uri": "https://localhost:8080/",
          "height": 241
        }
      },
      "source": [
        "f = unpickle('batches.meta')\n",
        "f"
      ],
      "execution_count": 0,
      "outputs": [
        {
          "output_type": "execute_result",
          "data": {
            "text/plain": [
              "{b'label_names': [b'airplane',\n",
              "  b'automobile',\n",
              "  b'bird',\n",
              "  b'cat',\n",
              "  b'deer',\n",
              "  b'dog',\n",
              "  b'frog',\n",
              "  b'horse',\n",
              "  b'ship',\n",
              "  b'truck'],\n",
              " b'num_cases_per_batch': 10000,\n",
              " b'num_vis': 3072}"
            ]
          },
          "metadata": {
            "tags": []
          },
          "execution_count": 342
        }
      ]
    },
    {
      "cell_type": "code",
      "metadata": {
        "id": "mTovbVVcINpW",
        "colab_type": "code",
        "colab": {}
      },
      "source": [
        "labels_1 = data_1[b'labels']\n",
        "data_1 = data_1[b'data'] * 1.0\n",
        "labels_2 = data_2[b'labels']\n",
        "data_2 = data_2[b'data'] * 1.0\n",
        "labels_3 = data_3[b'labels']\n",
        "data_3 = data_3[b'data'] * 1.0\n",
        "labels_4 = data_4[b'labels']\n",
        "data_4 = data_4[b'data'] * 1.0\n",
        "labels_5 = data_5[b'labels']\n",
        "data_5 = data_5[b'data'] * 1.0"
      ],
      "execution_count": 0,
      "outputs": []
    },
    {
      "cell_type": "code",
      "metadata": {
        "id": "9p1ihA69Jvpv",
        "colab_type": "code",
        "outputId": "2da2cde3-e855-487d-a33c-a87bf4ce1884",
        "colab": {
          "base_uri": "https://localhost:8080/",
          "height": 36
        }
      },
      "source": [
        "X_train = np.concatenate([data_1, data_2, data_3, data_4, data_5], axis = 0)\n",
        "y_train = np.concatenate([labels_1, labels_2, labels_3, labels_4, labels_5], axis = 0)\n",
        "X_train.shape, y_train.shape"
      ],
      "execution_count": 0,
      "outputs": [
        {
          "output_type": "execute_result",
          "data": {
            "text/plain": [
              "((50000, 3072), (50000,))"
            ]
          },
          "metadata": {
            "tags": []
          },
          "execution_count": 344
        }
      ]
    },
    {
      "cell_type": "code",
      "metadata": {
        "id": "olBDN8_0TjwU",
        "colab_type": "code",
        "colab": {}
      },
      "source": [
        "def normalize(data):\n",
        "  min_val = np.min(data)\n",
        "  max_val = np.max(data)\n",
        "  data = (data-min_val) / (max_val-min_val)\n",
        "  return data"
      ],
      "execution_count": 0,
      "outputs": []
    },
    {
      "cell_type": "code",
      "metadata": {
        "id": "tub7tydHOXlX",
        "colab_type": "code",
        "colab": {}
      },
      "source": [
        "X_train = X_train.astype('float32')\n",
        "X_train /= 255\n",
        "X_test = X_test.astype('float32')\n",
        "X_test /= 255"
      ],
      "execution_count": 0,
      "outputs": []
    },
    {
      "cell_type": "code",
      "metadata": {
        "id": "dDhepc_mUb49",
        "colab_type": "code",
        "colab": {}
      },
      "source": [
        "#X_train = normalize(X_train)\n",
        "X_train = X_train.reshape(-1, 32, 32, 3)"
      ],
      "execution_count": 0,
      "outputs": []
    },
    {
      "cell_type": "code",
      "metadata": {
        "id": "MT5n5jX6PSds",
        "colab_type": "code",
        "outputId": "7a88450d-3f10-4f41-e3e9-b28e0f3500ed",
        "colab": {
          "base_uri": "https://localhost:8080/",
          "height": 36
        }
      },
      "source": [
        "X_train.shape"
      ],
      "execution_count": 0,
      "outputs": [
        {
          "output_type": "execute_result",
          "data": {
            "text/plain": [
              "(40000, 32, 32, 3)"
            ]
          },
          "metadata": {
            "tags": []
          },
          "execution_count": 356
        }
      ]
    },
    {
      "cell_type": "code",
      "metadata": {
        "id": "oTf2BSQrUspQ",
        "colab_type": "code",
        "colab": {}
      },
      "source": [
        "test_data = unpickle('test_batch')\n",
        "X_test = test_data[b'data'] * 1.0\n",
        "#X_test = normalize(X_test)\n",
        "X_test = X_test.reshape(-1, 32, 32, 3)\n",
        "y_test = np.asarray(test_data[b'labels'])"
      ],
      "execution_count": 0,
      "outputs": []
    },
    {
      "cell_type": "code",
      "metadata": {
        "id": "7a9x67-HXVxp",
        "colab_type": "code",
        "outputId": "2ac14fff-1280-4782-a8aa-639cb95b5d05",
        "colab": {
          "base_uri": "https://localhost:8080/",
          "height": 285
        }
      },
      "source": [
        "\n",
        "plt.imshow(X_train[50].astype(np.uint8))"
      ],
      "execution_count": 0,
      "outputs": [
        {
          "output_type": "execute_result",
          "data": {
            "text/plain": [
              "<matplotlib.image.AxesImage at 0x7fe9ae7d4320>"
            ]
          },
          "metadata": {
            "tags": []
          },
          "execution_count": 319
        },
        {
          "output_type": "display_data",
          "data": {
            "image/png": "[encoded data removed]",
            "text/plain": [
              "<Figure size 432x288 with 1 Axes>"
            ]
          },
          "metadata": {
            "tags": [],
            "needs_background": "light"
          }
        }
      ]
    },
    {
      "cell_type": "code",
      "metadata": {
        "id": "KTnc20uPWxHQ",
        "colab_type": "code",
        "colab": {}
      },
      "source": [
        "from keras.models import Sequential\n",
        "from keras.layers import Conv2D, Dense, MaxPool2D, BatchNormalization, Flatten, Dropout, Activation, MaxPooling2D\n",
        "from keras.utils import to_categorical\n",
        "from keras.optimizers import adam, RMSprop\n",
        "from keras import regularizers, optimizers\n",
        "from keras.callbacks import ReduceLROnPlateau\n",
        "from keras.datasets import cifar10"
      ],
      "execution_count": 0,
      "outputs": []
    },
    {
      "cell_type": "code",
      "metadata": {
        "id": "_QdVniWZ5yhj",
        "colab_type": "code",
        "colab": {}
      },
      "source": [
        "(X_train, y_train), (X_test, y_test) = cifar10.load_data()"
      ],
      "execution_count": 0,
      "outputs": []
    },
    {
      "cell_type": "code",
      "metadata": {
        "id": "DnzXNxJ28Mp0",
        "colab_type": "code",
        "colab": {}
      },
      "source": [
        "X_train = X_train.astype('float32')\n",
        "X_train /= 255\n",
        "X_test = X_test.astype('float32')\n",
        "X_test /= 255"
      ],
      "execution_count": 0,
      "outputs": []
    },
    {
      "cell_type": "code",
      "metadata": {
        "id": "a68ZMNJG5614",
        "colab_type": "code",
        "colab": {}
      },
      "source": [
        "y_train = to_categorical(y_train, num_classes)\n",
        "y_test = to_categorical(y_test, num_classes) "
      ],
      "execution_count": 0,
      "outputs": []
    },
    {
      "cell_type": "code",
      "metadata": {
        "id": "dtxc3I6N8DwJ",
        "colab_type": "code",
        "colab": {
          "base_uri": "https://localhost:8080/",
          "height": 35
        },
        "outputId": "79ce0370-c22b-4143-e04f-6caf0501d1f3"
      },
      "source": [
        "X_val = X_train[:10000]\n",
        "y_val = y_train[:10000]\n",
        "X_train = X_train[10000:]\n",
        "y_train = y_train[10000:]\n",
        "X_train.shape, y_train.shape, X_val.shape, y_val.shape"
      ],
      "execution_count": 82,
      "outputs": [
        {
          "output_type": "execute_result",
          "data": {
            "text/plain": [
              "((40000, 32, 32, 3), (40000, 10), (10000, 32, 32, 3), (10000, 10))"
            ]
          },
          "metadata": {
            "tags": []
          },
          "execution_count": 82
        }
      ]
    },
    {
      "cell_type": "code",
      "metadata": {
        "id": "GHp2C1UzqbGR",
        "colab_type": "code",
        "colab": {}
      },
      "source": [
        "num_classes = 10\n",
        "batch_size = 32\n",
        "weight_decay = 1e-6"
      ],
      "execution_count": 0,
      "outputs": []
    },
    {
      "cell_type": "code",
      "metadata": {
        "id": "vCqNBxfp7ynU",
        "colab_type": "code",
        "colab": {
          "base_uri": "https://localhost:8080/",
          "height": 35
        },
        "outputId": "8af3c650-c808-4668-def9-b3c90599c82f"
      },
      "source": [
        "y_train.shape"
      ],
      "execution_count": 84,
      "outputs": [
        {
          "output_type": "execute_result",
          "data": {
            "text/plain": [
              "(40000, 10)"
            ]
          },
          "metadata": {
            "tags": []
          },
          "execution_count": 84
        }
      ]
    },
    {
      "cell_type": "code",
      "metadata": {
        "id": "7X_l9BSSVVzH",
        "colab_type": "code",
        "colab": {}
      },
      "source": [
        "def cifar():\n",
        "  model = Sequential()\n",
        "\n",
        "  model.add(Conv2D(32, (3, 3), activation = 'relu', padding = 'same', input_shape = (32, 32, 3)))\n",
        "  model.add(BatchNormalization())\n",
        "  model.add(Dropout(0.25))\n",
        "  model.add(Conv2D(32, (3, 3), activation = 'relu', padding = 'same'))\n",
        "  model.add(BatchNormalization())\n",
        "  model.add(MaxPooling2D(2, 2))\n",
        "\n",
        "  model.add(Conv2D(64, (3, 3), activation = 'relu', padding = 'same'))\n",
        "  model.add(BatchNormalization())\n",
        "  model.add(Dropout(0.25))\n",
        "  model.add(Conv2D(64, (3, 3), activation = 'relu', padding = 'same'))\n",
        "  model.add(BatchNormalization())\n",
        "  model.add(MaxPooling2D(2, 2))\n",
        "\n",
        "  model.add(Conv2D(128, (3, 3), activation = 'relu', padding = 'same'))\n",
        "  model.add(BatchNormalization())\n",
        "  model.add(Dropout(0.25))\n",
        "  model.add(Conv2D(128, (3, 3), activation = 'relu', padding = 'same'))\n",
        "  model.add(BatchNormalization())\n",
        "  model.add(MaxPooling2D(2, 2))\n",
        "\n",
        "  model.add(Flatten())\n",
        "  model.add(Dense(256, activation = 'relu'))\n",
        "  model.add(BatchNormalization())\n",
        "  model.add(Dropout(0.5))\n",
        "  model.add(Dense(num_classes, activation = 'softmax'))\n",
        "  return model"
      ],
      "execution_count": 0,
      "outputs": []
    },
    {
      "cell_type": "code",
      "metadata": {
        "id": "ILRr_96xIalp",
        "colab_type": "code",
        "colab": {}
      },
      "source": [
        "callback = [ReduceLROnPlateau(monitor = 'val_loss', patience = 2, factor = 0.1, min_lr = 0.001)]"
      ],
      "execution_count": 0,
      "outputs": []
    },
    {
      "cell_type": "code",
      "metadata": {
        "id": "dfUMJzViecDg",
        "colab_type": "code",
        "colab": {}
      },
      "source": [
        "cifar_model = cifar()\n",
        "optimizer = adam(learning_rate = 0.001)\n",
        "cifar_model.compile(loss='categorical_crossentropy', optimizer='rmsprop', metrics=['accuracy'])"
      ],
      "execution_count": 0,
      "outputs": []
    },
    {
      "cell_type": "code",
      "metadata": {
        "id": "768pKc6LgFK_",
        "colab_type": "code",
        "outputId": "bbc2373e-eafa-4638-a43d-fb0271cae5b2",
        "colab": {
          "base_uri": "https://localhost:8080/",
          "height": 774
        }
      },
      "source": [
        "history = cifar_model.fit(X_train, y_train, epochs=20, batch_size=batch_size, validation_data=(X_val,y_val), callbacks=callback)"
      ],
      "execution_count": 88,
      "outputs": [
        {
          "output_type": "stream",
          "text": [
            "Train on 40000 samples, validate on 10000 samples\n",
            "Epoch 1/20\n",
            "40000/40000 [==============================] - 26s 646us/step - loss: 1.5788 - accuracy: 0.4625 - val_loss: 1.1068 - val_accuracy: 0.6123\n",
            "Epoch 2/20\n",
            "40000/40000 [==============================] - 25s 617us/step - loss: 0.9740 - accuracy: 0.6620 - val_loss: 0.9769 - val_accuracy: 0.6572\n",
            "Epoch 3/20\n",
            "40000/40000 [==============================] - 25s 616us/step - loss: 0.8073 - accuracy: 0.7195 - val_loss: 0.7785 - val_accuracy: 0.7425\n",
            "Epoch 4/20\n",
            "40000/40000 [==============================] - 25s 622us/step - loss: 0.7061 - accuracy: 0.7584 - val_loss: 0.8100 - val_accuracy: 0.7243\n",
            "Epoch 5/20\n",
            "40000/40000 [==============================] - 24s 609us/step - loss: 0.6290 - accuracy: 0.7812 - val_loss: 0.6290 - val_accuracy: 0.7803\n",
            "Epoch 6/20\n",
            "40000/40000 [==============================] - 24s 611us/step - loss: 0.5728 - accuracy: 0.8027 - val_loss: 0.7096 - val_accuracy: 0.7660\n",
            "Epoch 7/20\n",
            "40000/40000 [==============================] - 25s 615us/step - loss: 0.5198 - accuracy: 0.8218 - val_loss: 0.6409 - val_accuracy: 0.7792\n",
            "Epoch 8/20\n",
            "40000/40000 [==============================] - 25s 619us/step - loss: 0.4841 - accuracy: 0.8335 - val_loss: 0.6464 - val_accuracy: 0.7956\n",
            "Epoch 9/20\n",
            "40000/40000 [==============================] - 25s 620us/step - loss: 0.4483 - accuracy: 0.8474 - val_loss: 0.5497 - val_accuracy: 0.8158\n",
            "Epoch 10/20\n",
            "40000/40000 [==============================] - 25s 628us/step - loss: 0.4178 - accuracy: 0.8566 - val_loss: 0.5807 - val_accuracy: 0.8103\n",
            "Epoch 11/20\n",
            "40000/40000 [==============================] - 25s 623us/step - loss: 0.3942 - accuracy: 0.8643 - val_loss: 0.5657 - val_accuracy: 0.8149\n",
            "Epoch 12/20\n",
            "40000/40000 [==============================] - 25s 625us/step - loss: 0.3721 - accuracy: 0.8714 - val_loss: 0.5893 - val_accuracy: 0.8060\n",
            "Epoch 13/20\n",
            "40000/40000 [==============================] - 25s 628us/step - loss: 0.3526 - accuracy: 0.8803 - val_loss: 0.5267 - val_accuracy: 0.8268\n",
            "Epoch 14/20\n",
            "40000/40000 [==============================] - 25s 628us/step - loss: 0.3335 - accuracy: 0.8848 - val_loss: 0.6191 - val_accuracy: 0.7997\n",
            "Epoch 15/20\n",
            "40000/40000 [==============================] - 25s 628us/step - loss: 0.3270 - accuracy: 0.8879 - val_loss: 0.5630 - val_accuracy: 0.8110\n",
            "Epoch 16/20\n",
            "40000/40000 [==============================] - 25s 633us/step - loss: 0.3029 - accuracy: 0.8960 - val_loss: 0.5721 - val_accuracy: 0.8167\n",
            "Epoch 17/20\n",
            "40000/40000 [==============================] - 25s 626us/step - loss: 0.2862 - accuracy: 0.9015 - val_loss: 0.5352 - val_accuracy: 0.8220\n",
            "Epoch 18/20\n",
            "40000/40000 [==============================] - 25s 626us/step - loss: 0.2750 - accuracy: 0.9043 - val_loss: 0.5446 - val_accuracy: 0.8252\n",
            "Epoch 19/20\n",
            "40000/40000 [==============================] - 25s 629us/step - loss: 0.2612 - accuracy: 0.9092 - val_loss: 0.5459 - val_accuracy: 0.8270\n",
            "Epoch 20/20\n",
            "40000/40000 [==============================] - 25s 628us/step - loss: 0.2559 - accuracy: 0.9120 - val_loss: 0.5389 - val_accuracy: 0.8222\n"
          ],
          "name": "stdout"
        }
      ]
    },
    {
      "cell_type": "code",
      "metadata": {
        "id": "SAY0eisWOLWx",
        "colab_type": "code",
        "colab": {}
      },
      "source": [
        "cifar_model.save_weights('cifar_model_best.h5')"
      ],
      "execution_count": 0,
      "outputs": []
    },
    {
      "cell_type": "code",
      "metadata": {
        "id": "9aidRsyAF6wo",
        "colab_type": "code",
        "colab": {}
      },
      "source": [
        "from sklearn.model_selection import GridSearchCV\n",
        "from keras.wrappers.scikit_learn import KerasClassifier"
      ],
      "execution_count": 0,
      "outputs": []
    },
    {
      "cell_type": "code",
      "metadata": {
        "id": "5deKfIQ0GAHD",
        "colab_type": "code",
        "colab": {}
      },
      "source": [
        "#cifar = KerasClassifier(build_fn = cifar, verbose = 1)\n",
        "#parameters = {'batch_size':[32, 50],\n",
        "#             'epochs': [50, 100],\n",
        "#              'optimizer': ['adam']}\n",
        "#grid_search = GridSearchCV(estimator = cifar,\n",
        "#                           param_grid = parameters,\n",
        "#                           scoring = 'accuracy',\n",
        "#                           cv = 2)\n",
        "#grid_search.fit(X_train, y_train)\n",
        "#best_parameters = grid_search.best_params_\n",
        "#best_accuracy = grid_search.best_score_"
      ],
      "execution_count": 0,
      "outputs": []
    },
    {
      "cell_type": "code",
      "metadata": {
        "id": "mXo0-h6lP8cC",
        "colab_type": "code",
        "outputId": "8c38fc2b-a63a-4c8e-fc46-d9905bbfb175",
        "colab": {
          "base_uri": "https://localhost:8080/",
          "height": 36
        }
      },
      "source": [
        "best_parameters, best_accuracy"
      ],
      "execution_count": 0,
      "outputs": [
        {
          "output_type": "execute_result",
          "data": {
            "text/plain": [
              "({'batch_size': 32, 'epochs': 100, 'optimizer': 'adam'}, 0.62124)"
            ]
          },
          "metadata": {
            "tags": []
          },
          "execution_count": 54
        }
      ]
    },
    {
      "cell_type": "code",
      "metadata": {
        "id": "bMBW8x6DEviu",
        "colab_type": "code",
        "outputId": "238c6d05-a868-4137-ff49-472ee8b33473",
        "colab": {
          "base_uri": "https://localhost:8080/",
          "height": 249
        }
      },
      "source": [
        "from keras.models import model_from_json\n",
        "   \n",
        "# serialize model to JSON\n",
        "#model_json = grid_search.to_json()\n",
        "\n",
        "#with open(\"cifar-model.json\", \"w\") as json_file:\n",
        "    #json_file.write(model_json)\n",
        "\n",
        "# save weights to HDF5\n",
        "grid_search.save_weights(\"cifar-model.h5\")\n",
        "print(\"Model saved\")\n",
        "\n",
        "# when you want to retrieve the model: load json and create model\n",
        "#json_file = open('model.json', 'r')\n",
        "#saved_model = json_file.read()\n",
        "# close the file as good practice\n",
        "#json_file.close()\n",
        "#model_from_json = model_from_json(saved_model)\n",
        "# load weights into new model\n",
        "#model_from_json.load_weights(\"model.h5\")\n",
        "#print(\"Model loaded\")"
      ],
      "execution_count": 0,
      "outputs": [
        {
          "output_type": "error",
          "ename": "AttributeError",
          "evalue": "ignored",
          "traceback": [
            "\u001b[0;31m---------------------------------------------------------------------------\u001b[0m",
            "\u001b[0;31mAttributeError\u001b[0m                            Traceback (most recent call last)",
            "\u001b[0;32m<ipython-input-18-f22f6878549e>\u001b[0m in \u001b[0;36m<module>\u001b[0;34m()\u001b[0m\n\u001b[1;32m      8\u001b[0m \u001b[0;34m\u001b[0m\u001b[0m\n\u001b[1;32m      9\u001b[0m \u001b[0;31m# save weights to HDF5\u001b[0m\u001b[0;34m\u001b[0m\u001b[0;34m\u001b[0m\u001b[0;34m\u001b[0m\u001b[0m\n\u001b[0;32m---> 10\u001b[0;31m \u001b[0mgrid_search\u001b[0m\u001b[0;34m.\u001b[0m\u001b[0msave_weights\u001b[0m\u001b[0;34m(\u001b[0m\u001b[0;34m\"cifar-model.h5\"\u001b[0m\u001b[0;34m)\u001b[0m\u001b[0;34m\u001b[0m\u001b[0;34m\u001b[0m\u001b[0m\n\u001b[0m\u001b[1;32m     11\u001b[0m \u001b[0mprint\u001b[0m\u001b[0;34m(\u001b[0m\u001b[0;34m\"Model saved\"\u001b[0m\u001b[0;34m)\u001b[0m\u001b[0;34m\u001b[0m\u001b[0;34m\u001b[0m\u001b[0m\n\u001b[1;32m     12\u001b[0m \u001b[0;34m\u001b[0m\u001b[0m\n",
            "\u001b[0;31mAttributeError\u001b[0m: 'GridSearchCV' object has no attribute 'save_weights'"
          ]
        }
      ]
    },
    {
      "cell_type": "code",
      "metadata": {
        "id": "Oz-7qe4yirV6",
        "colab_type": "code",
        "outputId": "2948463d-f7e2-4c75-f4da-84ad3a13af24",
        "colab": {
          "base_uri": "https://localhost:8080/",
          "height": 295
        }
      },
      "source": [
        "plt.plot(history.history['accuracy'])\n",
        "plt.plot(history.history['val_accuracy'])\n",
        "plt.title('Model Accuracy')\n",
        "plt.xlabel('epochs')\n",
        "plt.ylabel('accuracy')\n",
        "plt.legend(['Train', 'Test'], loc = 'upper right')\n",
        "plt.show()"
      ],
      "execution_count": 41,
      "outputs": [
        {
          "output_type": "display_data",
          "data": {
            "image/png": "[encoded data removed]",
            "text/plain": [
              "<Figure size 432x288 with 1 Axes>"
            ]
          },
          "metadata": {
            "tags": [],
            "needs_background": "light"
          }
        }
      ]
    },
    {
      "cell_type": "code",
      "metadata": {
        "id": "2AySwOvitYrm",
        "colab_type": "code",
        "outputId": "fd132165-c61d-4e88-f248-b1c3f090c3d3",
        "colab": {
          "base_uri": "https://localhost:8080/",
          "height": 295
        }
      },
      "source": [
        "plt.plot(history.history['loss'])\n",
        "plt.plot(history.history['val_loss'])\n",
        "plt.title('Model Loss')\n",
        "plt.xlabel('epochs')\n",
        "plt.ylabel('loss')\n",
        "plt.legend(['Train', 'Test'], loc = 'upper right')\n",
        "plt.show()"
      ],
      "execution_count": 42,
      "outputs": [
        {
          "output_type": "display_data",
          "data": {
            "image/png": "[encoded data removed]",
            "text/plain": [
              "<Figure size 432x288 with 1 Axes>"
            ]
          },
          "metadata": {
            "tags": [],
            "needs_background": "light"
          }
        }
      ]
    },
    {
      "cell_type": "code",
      "metadata": {
        "id": "P11yULpsuhWj",
        "colab_type": "code",
        "outputId": "89f059e2-ed9e-4c79-dc97-ddf4f10b295c",
        "colab": {
          "base_uri": "https://localhost:8080/",
          "height": 54
        }
      },
      "source": [
        "scores = cifar_model.evaluate(X_test, y_test)\n",
        "scores"
      ],
      "execution_count": 43,
      "outputs": [
        {
          "output_type": "stream",
          "text": [
            "10000/10000 [==============================] - 2s 185us/step\n"
          ],
          "name": "stdout"
        },
        {
          "output_type": "execute_result",
          "data": {
            "text/plain": [
              "[0.594408614063263, 0.8122000098228455]"
            ]
          },
          "metadata": {
            "tags": []
          },
          "execution_count": 43
        }
      ]
    },
    {
      "cell_type": "code",
      "metadata": {
        "id": "jcwDKeEJijXW",
        "colab_type": "code",
        "outputId": "c84cc760-365b-4fb4-9f58-4d04ea86d651",
        "colab": {
          "base_uri": "https://localhost:8080/",
          "height": 35
        }
      },
      "source": [
        "y_pred = cifar_model.predict(X_test)\n",
        "wrong_pred = y_pred[y_pred!=y_test]\n",
        "wrong_pred.shape, y_pred.shape"
      ],
      "execution_count": 44,
      "outputs": [
        {
          "output_type": "execute_result",
          "data": {
            "text/plain": [
              "((99873,), (10000, 10))"
            ]
          },
          "metadata": {
            "tags": []
          },
          "execution_count": 44
        }
      ]
    },
    {
      "cell_type": "code",
      "metadata": {
        "id": "TSwZlSkUNPXg",
        "colab_type": "code",
        "colab": {
          "base_uri": "https://localhost:8080/",
          "height": 363
        },
        "outputId": "f5029007-ea4a-4f57-be89-2064577b9cae"
      },
      "source": [
        "from keras.models import load_model\n",
        "model = load_model('cifar_model_best.h5')\n",
        "model.evaluate(X_test, y_test)"
      ],
      "execution_count": 92,
      "outputs": [
        {
          "output_type": "error",
          "ename": "ValueError",
          "evalue": "ignored",
          "traceback": [
            "\u001b[0;31m---------------------------------------------------------------------------\u001b[0m",
            "\u001b[0;31mValueError\u001b[0m                                Traceback (most recent call last)",
            "\u001b[0;32m<ipython-input-92-baa56e5d1e0c>\u001b[0m in \u001b[0;36m<module>\u001b[0;34m()\u001b[0m\n\u001b[1;32m      1\u001b[0m \u001b[0;32mfrom\u001b[0m \u001b[0mkeras\u001b[0m\u001b[0;34m.\u001b[0m\u001b[0mmodels\u001b[0m \u001b[0;32mimport\u001b[0m \u001b[0mload_model\u001b[0m\u001b[0;34m\u001b[0m\u001b[0;34m\u001b[0m\u001b[0m\n\u001b[0;32m----> 2\u001b[0;31m \u001b[0mmodel\u001b[0m \u001b[0;34m=\u001b[0m \u001b[0mload_model\u001b[0m\u001b[0;34m(\u001b[0m\u001b[0;34m'cifar_model_best.h5'\u001b[0m\u001b[0;34m)\u001b[0m\u001b[0;34m\u001b[0m\u001b[0;34m\u001b[0m\u001b[0m\n\u001b[0m\u001b[1;32m      3\u001b[0m \u001b[0mmodel\u001b[0m\u001b[0;34m.\u001b[0m\u001b[0mevaluate\u001b[0m\u001b[0;34m(\u001b[0m\u001b[0mX_test\u001b[0m\u001b[0;34m,\u001b[0m \u001b[0my_test\u001b[0m\u001b[0;34m)\u001b[0m\u001b[0;34m\u001b[0m\u001b[0;34m\u001b[0m\u001b[0m\n",
            "\u001b[0;32m/usr/local/lib/python3.6/dist-packages/keras/engine/saving.py\u001b[0m in \u001b[0;36mload_wrapper\u001b[0;34m(*args, **kwargs)\u001b[0m\n\u001b[1;32m    490\u001b[0m                 \u001b[0mos\u001b[0m\u001b[0;34m.\u001b[0m\u001b[0mremove\u001b[0m\u001b[0;34m(\u001b[0m\u001b[0mtmp_filepath\u001b[0m\u001b[0;34m)\u001b[0m\u001b[0;34m\u001b[0m\u001b[0;34m\u001b[0m\u001b[0m\n\u001b[1;32m    491\u001b[0m             \u001b[0;32mreturn\u001b[0m \u001b[0mres\u001b[0m\u001b[0;34m\u001b[0m\u001b[0;34m\u001b[0m\u001b[0m\n\u001b[0;32m--> 492\u001b[0;31m         \u001b[0;32mreturn\u001b[0m \u001b[0mload_function\u001b[0m\u001b[0;34m(\u001b[0m\u001b[0;34m*\u001b[0m\u001b[0margs\u001b[0m\u001b[0;34m,\u001b[0m \u001b[0;34m**\u001b[0m\u001b[0mkwargs\u001b[0m\u001b[0;34m)\u001b[0m\u001b[0;34m\u001b[0m\u001b[0;34m\u001b[0m\u001b[0m\n\u001b[0m\u001b[1;32m    493\u001b[0m \u001b[0;34m\u001b[0m\u001b[0m\n\u001b[1;32m    494\u001b[0m     \u001b[0;32mreturn\u001b[0m \u001b[0mload_wrapper\u001b[0m\u001b[0;34m\u001b[0m\u001b[0;34m\u001b[0m\u001b[0m\n",
            "\u001b[0;32m/usr/local/lib/python3.6/dist-packages/keras/engine/saving.py\u001b[0m in \u001b[0;36mload_model\u001b[0;34m(filepath, custom_objects, compile)\u001b[0m\n\u001b[1;32m    582\u001b[0m     \u001b[0;32mif\u001b[0m \u001b[0mH5Dict\u001b[0m\u001b[0;34m.\u001b[0m\u001b[0mis_supported_type\u001b[0m\u001b[0;34m(\u001b[0m\u001b[0mfilepath\u001b[0m\u001b[0;34m)\u001b[0m\u001b[0;34m:\u001b[0m\u001b[0;34m\u001b[0m\u001b[0;34m\u001b[0m\u001b[0m\n\u001b[1;32m    583\u001b[0m         \u001b[0;32mwith\u001b[0m \u001b[0mH5Dict\u001b[0m\u001b[0;34m(\u001b[0m\u001b[0mfilepath\u001b[0m\u001b[0;34m,\u001b[0m \u001b[0mmode\u001b[0m\u001b[0;34m=\u001b[0m\u001b[0;34m'r'\u001b[0m\u001b[0;34m)\u001b[0m \u001b[0;32mas\u001b[0m \u001b[0mh5dict\u001b[0m\u001b[0;34m:\u001b[0m\u001b[0;34m\u001b[0m\u001b[0;34m\u001b[0m\u001b[0m\n\u001b[0;32m--> 584\u001b[0;31m             \u001b[0mmodel\u001b[0m \u001b[0;34m=\u001b[0m \u001b[0m_deserialize_model\u001b[0m\u001b[0;34m(\u001b[0m\u001b[0mh5dict\u001b[0m\u001b[0;34m,\u001b[0m \u001b[0mcustom_objects\u001b[0m\u001b[0;34m,\u001b[0m \u001b[0mcompile\u001b[0m\u001b[0;34m)\u001b[0m\u001b[0;34m\u001b[0m\u001b[0;34m\u001b[0m\u001b[0m\n\u001b[0m\u001b[1;32m    585\u001b[0m     \u001b[0;32melif\u001b[0m \u001b[0mhasattr\u001b[0m\u001b[0;34m(\u001b[0m\u001b[0mfilepath\u001b[0m\u001b[0;34m,\u001b[0m \u001b[0;34m'write'\u001b[0m\u001b[0;34m)\u001b[0m \u001b[0;32mand\u001b[0m \u001b[0mcallable\u001b[0m\u001b[0;34m(\u001b[0m\u001b[0mfilepath\u001b[0m\u001b[0;34m.\u001b[0m\u001b[0mwrite\u001b[0m\u001b[0;34m)\u001b[0m\u001b[0;34m:\u001b[0m\u001b[0;34m\u001b[0m\u001b[0;34m\u001b[0m\u001b[0m\n\u001b[1;32m    586\u001b[0m         \u001b[0;32mdef\u001b[0m \u001b[0mload_function\u001b[0m\u001b[0;34m(\u001b[0m\u001b[0mh5file\u001b[0m\u001b[0;34m)\u001b[0m\u001b[0;34m:\u001b[0m\u001b[0;34m\u001b[0m\u001b[0;34m\u001b[0m\u001b[0m\n",
            "\u001b[0;32m/usr/local/lib/python3.6/dist-packages/keras/engine/saving.py\u001b[0m in \u001b[0;36m_deserialize_model\u001b[0;34m(h5dict, custom_objects, compile)\u001b[0m\n\u001b[1;32m    268\u001b[0m         \u001b[0;32mreturn\u001b[0m \u001b[0mobj\u001b[0m\u001b[0;34m\u001b[0m\u001b[0;34m\u001b[0m\u001b[0m\n\u001b[1;32m    269\u001b[0m \u001b[0;34m\u001b[0m\u001b[0m\n\u001b[0;32m--> 270\u001b[0;31m     \u001b[0mmodel_config\u001b[0m \u001b[0;34m=\u001b[0m \u001b[0mh5dict\u001b[0m\u001b[0;34m[\u001b[0m\u001b[0;34m'model_config'\u001b[0m\u001b[0;34m]\u001b[0m\u001b[0;34m\u001b[0m\u001b[0;34m\u001b[0m\u001b[0m\n\u001b[0m\u001b[1;32m    271\u001b[0m     \u001b[0;32mif\u001b[0m \u001b[0mmodel_config\u001b[0m \u001b[0;32mis\u001b[0m \u001b[0;32mNone\u001b[0m\u001b[0;34m:\u001b[0m\u001b[0;34m\u001b[0m\u001b[0;34m\u001b[0m\u001b[0m\n\u001b[1;32m    272\u001b[0m         \u001b[0;32mraise\u001b[0m \u001b[0mValueError\u001b[0m\u001b[0;34m(\u001b[0m\u001b[0;34m'No model found in config.'\u001b[0m\u001b[0;34m)\u001b[0m\u001b[0;34m\u001b[0m\u001b[0;34m\u001b[0m\u001b[0m\n",
            "\u001b[0;32m/usr/local/lib/python3.6/dist-packages/keras/utils/io_utils.py\u001b[0m in \u001b[0;36m__getitem__\u001b[0;34m(self, attr)\u001b[0m\n\u001b[1;32m    316\u001b[0m             \u001b[0;32melse\u001b[0m\u001b[0;34m:\u001b[0m\u001b[0;34m\u001b[0m\u001b[0;34m\u001b[0m\u001b[0m\n\u001b[1;32m    317\u001b[0m                 \u001b[0;32mif\u001b[0m \u001b[0mself\u001b[0m\u001b[0;34m.\u001b[0m\u001b[0mread_only\u001b[0m\u001b[0;34m:\u001b[0m\u001b[0;34m\u001b[0m\u001b[0;34m\u001b[0m\u001b[0m\n\u001b[0;32m--> 318\u001b[0;31m                     \u001b[0;32mraise\u001b[0m \u001b[0mValueError\u001b[0m\u001b[0;34m(\u001b[0m\u001b[0;34m'Cannot create group in read-only mode.'\u001b[0m\u001b[0;34m)\u001b[0m\u001b[0;34m\u001b[0m\u001b[0;34m\u001b[0m\u001b[0m\n\u001b[0m\u001b[1;32m    319\u001b[0m                 \u001b[0mval\u001b[0m \u001b[0;34m=\u001b[0m \u001b[0mH5Dict\u001b[0m\u001b[0;34m(\u001b[0m\u001b[0mself\u001b[0m\u001b[0;34m.\u001b[0m\u001b[0mdata\u001b[0m\u001b[0;34m.\u001b[0m\u001b[0mcreate_group\u001b[0m\u001b[0;34m(\u001b[0m\u001b[0mattr\u001b[0m\u001b[0;34m)\u001b[0m\u001b[0;34m)\u001b[0m\u001b[0;34m\u001b[0m\u001b[0;34m\u001b[0m\u001b[0m\n\u001b[1;32m    320\u001b[0m         \u001b[0;32mreturn\u001b[0m \u001b[0mval\u001b[0m\u001b[0;34m\u001b[0m\u001b[0;34m\u001b[0m\u001b[0m\n",
            "\u001b[0;31mValueError\u001b[0m: Cannot create group in read-only mode."
          ]
        }
      ]
    },
    {
      "cell_type": "code",
      "metadata": {
        "id": "kk1hIMLzi84i",
        "colab_type": "code",
        "colab": {}
      },
      "source": [
        "import cv2\n",
        "test_img = cv2.imread('test_images/frog3.jpg')\n",
        "test_img = np.array(test_img, dtype='float64')\n",
        "test_img = normalize(test_img)\n",
        "test_img = test_img.reshape(1,32,32,3)"
      ],
      "execution_count": 0,
      "outputs": []
    },
    {
      "cell_type": "code",
      "metadata": {
        "colab_type": "code",
        "id": "jWQqlFVRfXj7",
        "colab": {}
      },
      "source": [
        "result = cifar_model.predict(test_img)"
      ],
      "execution_count": 0,
      "outputs": []
    },
    {
      "cell_type": "code",
      "metadata": {
        "colab_type": "code",
        "outputId": "dfad9b78-2370-4f8c-c486-6c8ee616d0f3",
        "id": "zs3JAEWufXkn",
        "colab": {
          "base_uri": "https://localhost:8080/",
          "height": 181
        }
      },
      "source": [
        "x = test_img\n",
        "x = np.reshape(x, (32, 96))\n",
        "plt.imshow(x)"
      ],
      "execution_count": 0,
      "outputs": [
        {
          "output_type": "execute_result",
          "data": {
            "text/plain": [
              "<matplotlib.image.AxesImage at 0x7fe9aef5d668>"
            ]
          },
          "metadata": {
            "tags": []
          },
          "execution_count": 255
        },
        {
          "output_type": "display_data",
          "data": {
            "image/png": "[encoded data removed]",
            "text/plain": [
              "<Figure size 432x288 with 1 Axes>"
            ]
          },
          "metadata": {
            "tags": [],
            "needs_background": "light"
          }
        }
      ]
    },
    {
      "cell_type": "code",
      "metadata": {
        "colab_type": "code",
        "outputId": "1c1a4f91-0f08-4fd3-8912-9e8c012c7447",
        "id": "IedIiggjfXlB",
        "colab": {
          "base_uri": "https://localhost:8080/",
          "height": 73
        }
      },
      "source": [
        "result ,np.argmax(result), f[b'label_names'][4]"
      ],
      "execution_count": 0,
      "outputs": [
        {
          "output_type": "execute_result",
          "data": {
            "text/plain": [
              "(array([[0.018746  , 0.01532594, 0.14270659, 0.02649594, 0.7134462 ,\n",
              "         0.00496162, 0.01373439, 0.01058137, 0.01636636, 0.03763561]],\n",
              "       dtype=float32), 4, b'deer')"
            ]
          },
          "metadata": {
            "tags": []
          },
          "execution_count": 257
        }
      ]
    },
    {
      "cell_type": "code",
      "metadata": {
        "id": "khYL2PPNMx80",
        "colab_type": "code",
        "colab": {}
      },
      "source": [
        "import cv2\n",
        "import glob\n",
        "images = [cv2.imread(file) for file in glob.glob('test_images/*.jpg')]\n",
        "images = np.array(images)"
      ],
      "execution_count": 0,
      "outputs": []
    },
    {
      "cell_type": "code",
      "metadata": {
        "id": "40GRx6WgWBxf",
        "colab_type": "code",
        "outputId": "fbbd2efa-5a5f-4281-ebc1-6351640269d0",
        "colab": {
          "base_uri": "https://localhost:8080/",
          "height": 36
        }
      },
      "source": [
        "images[0].shape"
      ],
      "execution_count": 0,
      "outputs": [
        {
          "output_type": "execute_result",
          "data": {
            "text/plain": [
              "(32, 32, 3)"
            ]
          },
          "metadata": {
            "tags": []
          },
          "execution_count": 155
        }
      ]
    },
    {
      "cell_type": "code",
      "metadata": {
        "id": "Bj9kezL1Ucnd",
        "colab_type": "code",
        "colab": {}
      },
      "source": [
        "#x = normalize(np.array(images[7], dtype='float64'))\n",
        "for i in range(images.shape[0]):\n",
        "  images[i] = np.array(images[i], dtype='float32')\n",
        "  images[i] = images[i].reshape(1,32,32,3)"
      ],
      "execution_count": 0,
      "outputs": []
    },
    {
      "cell_type": "code",
      "metadata": {
        "id": "-g5XI26ZSPx8",
        "colab_type": "code",
        "colab": {}
      },
      "source": [
        "results = []\n",
        "for i in range(images.shape[0]):\n",
        "  x = cifar_model.predict(images[i].reshape(1,32,32,3))\n",
        "  results.append(np.argmax(x))"
      ],
      "execution_count": 0,
      "outputs": []
    },
    {
      "cell_type": "code",
      "metadata": {
        "id": "gNStsJ5KUPmf",
        "colab_type": "code",
        "outputId": "0bad96b9-1e0c-4bc7-d276-6f92f902bebc",
        "colab": {
          "base_uri": "https://localhost:8080/",
          "height": 91
        }
      },
      "source": [
        "x, results "
      ],
      "execution_count": 49,
      "outputs": [
        {
          "output_type": "execute_result",
          "data": {
            "text/plain": [
              "(array([[0.000000e+00, 1.000000e+00, 0.000000e+00, 0.000000e+00,\n",
              "         0.000000e+00, 0.000000e+00, 0.000000e+00, 0.000000e+00,\n",
              "         0.000000e+00, 6.825136e-15]], dtype=float32),\n",
              " [1, 1, 1, 1, 1, 3, 1, 7, 1, 1, 1, 1, 1])"
            ]
          },
          "metadata": {
            "tags": []
          },
          "execution_count": 49
        }
      ]
    },
    {
      "cell_type": "code",
      "metadata": {
        "id": "Jz3MGu_9EaY7",
        "colab_type": "code",
        "colab": {
          "base_uri": "https://localhost:8080/",
          "height": 35
        },
        "outputId": "61b1bce7-db44-44b6-e627-c7a975a15dc1"
      },
      "source": [
        "images.shape[0]"
      ],
      "execution_count": 68,
      "outputs": [
        {
          "output_type": "execute_result",
          "data": {
            "text/plain": [
              "13"
            ]
          },
          "metadata": {
            "tags": []
          },
          "execution_count": 68
        }
      ]
    },
    {
      "cell_type": "code",
      "metadata": {
        "id": "bMeX7UzM_XUL",
        "colab_type": "code",
        "colab": {
          "base_uri": "https://localhost:8080/",
          "height": 287
        },
        "outputId": "c24b2b51-8b51-47fc-e40d-a5d93444dbed"
      },
      "source": [
        "fig = plt.figure()\n",
        "\n",
        "ax1 = fig.add_subplot(7,2,1)\n",
        "#ax1.figure(figsize=(20,10))\n",
        "ax2.imshow(images[0])\n",
        "ax2 = fig.add_subplot(7,2,2)\n",
        "ax3.imshow(images[1])\n",
        "ax3 = fig.add_subplot(7,2,3)\n",
        "ax4.imshow(images[2])\n",
        "ax4 = fig.add_subplot(7,2,4)\n",
        "ax5.imshow(images[3])\n",
        "ax5 = fig.add_subplot(7,2,5)\n",
        "ax5.imshow(images[4])\n",
        "ax6 = fig.add_subplot(7,2,6)\n",
        "ax6.imshow(images[5])\n",
        "ax7 = fig.add_subplot(7,2,7)\n",
        "ax7.imshow(images[6])\n",
        "ax8 = fig.add_subplot(7,2,8)\n",
        "ax8.imshow(images[7])\n",
        "ax9 = fig.add_subplot(7,2,9)\n",
        "ax9.imshow(images[8])\n",
        "ax10 = fig.add_subplot(7,2,10)\n",
        "ax10.imshow(images[9])\n",
        "ax11 = fig.add_subplot(7,2,11)\n",
        "ax11.imshow(images[10])\n",
        "ax12 = fig.add_subplot(7,2,12)\n",
        "ax12.imshow(images[11])\n",
        "ax13 = fig.add_subplot(7,2,13)\n",
        "ax13.imshow(images[12])\n",
        "#ax14 = fig.add_subplot(7,2,14)\n",
        "#ax14.imshow(images[13])\n",
        "\n",
        "#ax15.imshow(images[14])"
      ],
      "execution_count": 74,
      "outputs": [
        {
          "output_type": "execute_result",
          "data": {
            "text/plain": [
              "<matplotlib.image.AxesImage at 0x7f6ab0119f98>"
            ]
          },
          "metadata": {
            "tags": []
          },
          "execution_count": 74
        },
        {
          "output_type": "display_data",
          "data": {
            "image/png": "[encoded data removed]",
            "text/plain": [
              "<Figure size 432x288 with 13 Axes>"
            ]
          },
          "metadata": {
            "tags": [],
            "needs_background": "light"
          }
        }
      ]
    },
    {
      "cell_type": "code",
      "metadata": {
        "id": "wcPHboWUPZe7",
        "colab_type": "code",
        "outputId": "ef02b676-6c81-46dd-d0ed-9781bbd29fee",
        "colab": {
          "base_uri": "https://localhost:8080/",
          "height": 136
        }
      },
      "source": [
        "fig = fig.plt.figure(figsize = (10, 10))\n",
        "columns = 3\n",
        "rows = 5 \n",
        "labels = ['airplane', 'automobile', 'bird', 'cat', 'deer', 'dog', 'frog', 'horse', 'ship', 'truck']\n",
        "for i in range(images.shape[0]):\n",
        "  plt.title()\n",
        "  plt.imshow(images[i])"
      ],
      "execution_count": 0,
      "outputs": [
        {
          "output_type": "error",
          "ename": "SyntaxError",
          "evalue": "ignored",
          "traceback": [
            "\u001b[0;36m  File \u001b[0;32m\"<ipython-input-165-70249354d3c4>\"\u001b[0;36m, line \u001b[0;32m6\u001b[0m\n\u001b[0;31m    plt.title([labels[i] for i in results]))\u001b[0m\n\u001b[0m                                           ^\u001b[0m\n\u001b[0;31mSyntaxError\u001b[0m\u001b[0;31m:\u001b[0m invalid syntax\n"
          ]
        }
      ]
    }
  ]
}